{
 "cells": [
  {
   "cell_type": "code",
   "execution_count": 4,
   "metadata": {},
   "outputs": [],
   "source": [
    "!pip install -e .. --upgrade -q"
   ]
  },
  {
   "cell_type": "code",
   "execution_count": 5,
   "metadata": {},
   "outputs": [],
   "source": [
    "from jsonasobj import as_json, JsonObj\n",
    "\n",
    "\n",
    "from biolinkmodel import datamodel\n",
    "from rdflib import Namespace, Graph, BNode"
   ]
  },
  {
   "cell_type": "code",
   "execution_count": 6,
   "metadata": {},
   "outputs": [],
   "source": [
    "HGNC = Namespace('http://identifiers.org/hgnc#')\n",
    "MGI = Namespace('http://www.informatics.jax.org/accession/MGI:')\n",
    "BIO = Namespace('http://bioentity.io/vocab/')\n",
    "homology = Namespace('http://data2services/model/association/homology/')\n",
    "transcript = Namespace('http://data2services/model/association/transcript/')\n",
    "NUCC = Namespace('https://www.ncbi.nlm.nih.gov/nuccore/')"
   ]
  },
  {
   "cell_type": "code",
   "execution_count": 7,
   "metadata": {},
   "outputs": [
    {
     "name": "stdout",
     "output_type": "stream",
     "text": [
      "{\n",
      "   \"id\": \"http://data2services/model/association/homology/a1\",\n",
      "   \"prefixes\": [\n",
      "      \"http://identifiers.org/hgnc#\"\n",
      "   ],\n",
      "   \"entities\": [\n",
      "      {\n",
      "         \"id\": \"http://bioentity.io/vocab/homologous_to\",\n",
      "         \"subject\": \"http://identifiers.org/hgnc#M28340\",\n",
      "         \"relation\": \"http://bioentity.io/vocab/homologous_to\",\n",
      "         \"object\": \"http://www.informatics.jax.org/accession/MGI:1925179\"\n",
      "      },\n",
      "      {\n",
      "         \"id\": \"http://bioentity.io/vocab/affects_activity_of\",\n",
      "         \"subject\": \"https://www.ncbi.nlm.nih.gov/nuccore/NM_001018\",\n",
      "         \"relation\": \"http://bioentity.io/vocab/affects_activity_of\",\n",
      "         \"object\": \"http://identifiers.org/hgnc#10388\"\n",
      "      }\n",
      "   ],\n",
      "   \"@context\": \"../context.jsonld\"\n",
      "}\n"
     ]
    },
    {
     "data": {
      "text/plain": [
       "<Graph identifier=N16e75491a3d44063a423fdf56feb352d (<class 'rdflib.graph.Graph'>)>"
      ]
     },
     "execution_count": 7,
     "metadata": {},
     "output_type": "execute_result"
    }
   ],
   "source": [
    "knowledge_graph = datamodel.KnowledgeGraph(id=homology.a1)\n",
    "knowledge_graph['@context'] = \"../context.jsonld\"\n",
    "knowledge_graph.prefixes['HGNC'] = HGNC\n",
    "knowledge_graph.entities[BNode()] = datamodel.GeneToGeneHomologyAssociation(\n",
    "    id = BIO.homologous_to,\n",
    "    subject = HGNC[\"M28340\"],\n",
    "    object = MGI[\"1925179\"],\n",
    "    relation = BIO.homologous_to)\n",
    "\n",
    "knowledge_graph.entities[BNode()] = datamodel.TranscriptToGeneRelationship(\n",
    "    id = BIO.affects_activity_of,\n",
    "    subject=NUCC.NM_001018,\n",
    "    object=HGNC['10388'],\n",
    "    relation = BIO.affects_activity_of)\n",
    "print(as_json(knowledge_graph))\n"
   ]
  },
  {
   "cell_type": "code",
   "execution_count": 8,
   "metadata": {},
   "outputs": [
    {
     "name": "stdout",
     "output_type": "stream",
     "text": [
      "@prefix : <http://bioentity.io/vocab/> .\n",
      "@prefix CHEMBL.TARGET: <http://identifiers.org/chembl.target/> .\n",
      "@prefix ClinVar: <http://www.ncbi.nlm.nih.gov/clinvar/> .\n",
      "@prefix ECTO: <http://example.org/unknown/ECTO/> .\n",
      "@prefix ENSEMBL: <http://ensembl.org/id/> .\n",
      "@prefix GMODChado: <http://example.org/unknown/GMODChado/> .\n",
      "@prefix HGNC: <http://identifiers.org/hgnc#> .\n",
      "@prefix MGI: <http://www.informatics.jax.org/accession/MGI:> .\n",
      "@prefix MIR: <http://identifiers.org/mir/> .\n",
      "@prefix NCBIGene: <http://www.ncbi.nlm.nih.gov/gene/> .\n",
      "@prefix OBAN: <http://purl.org/oban/> .\n",
      "@prefix OIO: <http://www.geneontology.org/formats/oboInOwl#> .\n",
      "@prefix PomBase: <https://www.pombase.org/spombe/result/> .\n",
      "@prefix SEMMEDDB: <http://example.org/unknown/SEMMEDDB/> .\n",
      "@prefix SGD: <https://www.yeastgenome.org/locus/> .\n",
      "@prefix UMLSSG: <http://example.org/unknown/UMLSSG/> .\n",
      "@prefix UniProtKB: <http://identifiers.org/uniprot/> .\n",
      "@prefix VMC: <http://example.org/unknown/VMC/> .\n",
      "@prefix WB: <http://identifiers.org/wb/> .\n",
      "@prefix WD: <http://example.org/unknown/WD/> .\n",
      "@prefix ZFIN: <http://zfin.org/> .\n",
      "@prefix biolink: <http://bioentity.io/vocab/> .\n",
      "@prefix dcterms: <http://purl.org/dc/terms/> .\n",
      "@prefix dictyBase: <http://dictybase.org/gene/> .\n",
      "@prefix faldo: <http://biohackathon.org/resource/faldo#> .\n",
      "@prefix oban: <http://example.org/unknown/oban/> .\n",
      "@prefix owl: <http://www.w3.org/2002/07/owl#> .\n",
      "@prefix pav: <http://purl.org/pav/> .\n",
      "@prefix rdf: <http://www.w3.org/1999/02/22-rdf-syntax-ns#> .\n",
      "@prefix rdfs: <http://www.w3.org/2000/01/rdf-schema#> .\n",
      "@prefix skos: <https://www.w3.org/TR/skos-reference/#> .\n",
      "@prefix xml: <http://www.w3.org/XML/1998/namespace> .\n",
      "@prefix xsd: <http://www.w3.org/2001/XMLSchema#> .\n",
      "\n",
      "[] biolink:entities ( [ biolink:id biolink:homologous_to ;\n",
      "                rdf:object <http://www.informatics.jax.org/accession/MGI:1925179> ;\n",
      "                rdf:predicate biolink:homologous_to ;\n",
      "                rdf:subject HGNC:M28340 ] [ biolink:id biolink:affects_activity_of ;\n",
      "                rdf:object <http://identifiers.org/hgnc#10388> ;\n",
      "                rdf:predicate biolink:affects_activity_of ;\n",
      "                rdf:subject <https://www.ncbi.nlm.nih.gov/nuccore/NM_001018> ] ) ;\n",
      "    biolink:id <http://data2services/model/association/homology/a1> ;\n",
      "    biolink:prefixes ( HGNC: ) .\n",
      "\n",
      "\n"
     ]
    }
   ],
   "source": [
    "g = Graph()\n",
    "g.namespace_manager.bind('MGI', MGI)\n",
    "g.namespace_manager.bind('HGNC', HGNC)\n",
    "g.parse(data=as_json(knowledge_graph), format=\"json-ld\")\n",
    "print(g.serialize(format=\"turtle\").decode())"
   ]
  },
  {
   "cell_type": "code",
   "execution_count": null,
   "metadata": {},
   "outputs": [],
   "source": []
  }
 ],
 "metadata": {
  "kernelspec": {
   "display_name": "Python 3",
   "language": "python",
   "name": "python3"
  },
  "language_info": {
   "codemirror_mode": {
    "name": "ipython",
    "version": 3
   },
   "file_extension": ".py",
   "mimetype": "text/x-python",
   "name": "python",
   "nbconvert_exporter": "python",
   "pygments_lexer": "ipython3",
   "version": "3.7.0"
  }
 },
 "nbformat": 4,
 "nbformat_minor": 1
}
