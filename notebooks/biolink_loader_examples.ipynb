{
 "cells": [
  {
   "cell_type": "code",
   "execution_count": 1,
   "metadata": {},
   "outputs": [],
   "source": [
    "!pip install -e .. --upgrade -q"
   ]
  },
  {
   "cell_type": "code",
   "execution_count": 5,
   "metadata": {},
   "outputs": [],
   "source": [
    "from jsonasobj import as_json\n",
    "\n",
    "from biolinkmodel import datamodel\n",
    "from biolinkmodel.utils.extended_datamodel import KG\n",
    "from biolinkmodel.utils.namespaces import CCDS, PUBMED, UNIPROT, NCBIGENE, MIM, ENSEMBL, MGI, NUCC\n",
    "from metamodel.utils.namespaces import HGNC"
   ]
  },
  {
   "cell_type": "code",
   "execution_count": 6,
   "metadata": {},
   "outputs": [],
   "source": [
    "# Construct a knowledge graph.  There are a number of parameters that can be appended to the graph\n",
    "knowledge_graph = KG(id=HGNC)\n",
    "knowledge_graph.kg_source = \"Sample derived from biolink-hgnc.jsonld\""
   ]
  },
  {
   "cell_type": "code",
   "execution_count": 7,
   "metadata": {},
   "outputs": [
    {
     "name": "stdout",
     "output_type": "stream",
     "text": [
      "{\n",
      "   \"id\": \"N001b43ad7210481fb8222a83d040cd1d\",\n",
      "   \"subject\": \"https://monarchinitiative.org/gene/28304\",\n",
      "   \"relation\": \"http://bioentity.io/vocab/homologous_to\",\n",
      "   \"object\": \"http://www.informatics.jax.org/accession/MGI:1925179\"\n",
      "}\n"
     ]
    }
   ],
   "source": [
    "# Add a GeneToGeneHomologyAssociation using the default relationship\n",
    "assoc = knowledge_graph.add_association(datamodel.GeneToGeneHomologyAssociation,\n",
    "                                        HGNC[\"28304\"], MGI[\"1925179\"])\n",
    "print(as_json(assoc))"
   ]
  },
  {
   "cell_type": "code",
   "execution_count": 8,
   "metadata": {},
   "outputs": [
    {
     "name": "stdout",
     "output_type": "stream",
     "text": [
      "{\n",
      "   \"id\": \"Na6e2e15fdf4c48da9215197f5be4bb03\",\n",
      "   \"subject\": \"https://www.ncbi.nlm.nih.gov/nuccore/NM_001018\",\n",
      "   \"relation\": \"http://bioentity.io/vocab/expresses\",\n",
      "   \"object\": \"https://monarchinitiative.org/gene/10388\"\n",
      "}\n"
     ]
    }
   ],
   "source": [
    "# Add a Transcript to Gene relationship\n",
    "# NOTE: the actual relationship is not specified in the source.  We're just guessing\n",
    "assoc = knowledge_graph.add_association(datamodel.TranscriptToGeneRelationship,\n",
    "                                        NUCC.NM_001018, HGNC['10388'], 'expresses')\n",
    "print(as_json(assoc))"
   ]
  },
  {
   "cell_type": "code",
   "execution_count": 9,
   "metadata": {},
   "outputs": [
    {
     "name": "stdout",
     "output_type": "stream",
     "text": [
      "{\n",
      "   \"id\": \"https://monarchinitiative.org/gene/10388\",\n",
      "   \"name\": \"ribosomal protein S15\",\n",
      "   \"category\": [\n",
      "      \"gene with gene product\",\n",
      "      \"protein-coding gene\"\n",
      "   ],\n",
      "   \"systematic_synonym\": \"RPS15\",\n",
      "   \"has_gene_product\": \"http://identifiers.org/uniprot/P62841\",\n",
      "   \"filler\": [\n",
      "      \"http://data2services/model/status/Approved\",\n",
      "      \"https://data2services/model/gene-family/RPS\"\n",
      "   ],\n",
      "   \"located_in\": \"http://identifiers.org/ccds/CCDS12067\",\n",
      "   \"publications\": [\n",
      "      \"http://identifiers.org/pubmed/159154\"\n",
      "   ],\n",
      "   \"same_as\": [\n",
      "      \"https://www.ncbi.nlm.nih.gov/gene/6209\",\n",
      "      \"http://identifiers.org/mim/180535\",\n",
      "      \"http://identifiers.org/ensembl/ENSG00000115268\"\n",
      "   ],\n",
      "   \"update_date\": \"2014-11-19\"\n",
      "}\n"
     ]
    }
   ],
   "source": [
    "# Add a Gene to the graph\n",
    "# NOTE 1: Not sure what to do with\n",
    "# \"http://data2services/vocab/Status\" : [ {\n",
    "#       \"@value\" : \"Approved\"\n",
    "#     } ],\n",
    "#\n",
    "# NOTE 2: Neither category is defined in the model?\n",
    "gene = knowledge_graph.add_entity(datamodel.Gene, HGNC['10388'])\n",
    "gene.category = ['gene with gene product', 'protein-coding gene']\n",
    "gene.filler = [\"http://data2services/model/status/Approved\", \"https://data2services/model/gene-family/RPS\"]\n",
    "gene.located_in = CCDS.CCDS12067\n",
    "gene.publications = [PUBMED[\"159154\"]]\n",
    "gene.has_gene_product = UNIPROT.P62841\n",
    "gene.name = \"ribosomal protein S15\"\n",
    "gene.systematic_synonym = \"RPS15\"\n",
    "gene.same_as = [NCBIGENE['6209'], MIM['180535'], ENSEMBL.ENSG00000115268]\n",
    "gene.update_date = \"2014-11-19\"\n",
    "print(as_json(gene))"
   ]
  },
  {
   "cell_type": "code",
   "execution_count": 11,
   "metadata": {},
   "outputs": [
    {
     "name": "stdout",
     "output_type": "stream",
     "text": [
      "{\n",
      "   \"id\": \"https://monarchinitiative.org/gene/\",\n",
      "   \"entities\": [\n",
      "      {\n",
      "         \"id\": \"https://monarchinitiative.org/gene/10388\",\n",
      "         \"name\": \"ribosomal protein S15\",\n",
      "         \"category\": [\n",
      "            \"gene with gene product\",\n",
      "            \"protein-coding gene\"\n",
      "         ],\n",
      "         \"systematic_synonym\": \"RPS15\",\n",
      "         \"has_gene_product\": \"http://identifiers.org/uniprot/P62841\",\n",
      "         \"filler\": [\n",
      "            \"http://data2services/model/status/Approved\",\n",
      "            \"https://data2services/model/gene-family/RPS\"\n",
      "         ],\n",
      "         \"located_in\": \"http://identifiers.org/ccds/CCDS12067\",\n",
      "         \"publications\": [\n",
      "            \"http://identifiers.org/pubmed/159154\"\n",
      "         ],\n",
      "         \"same_as\": [\n",
      "            \"https://www.ncbi.nlm.nih.gov/gene/6209\",\n",
      "            \"http://identifiers.org/mim/180535\",\n",
      "            \"http://identifiers.org/ensembl/ENSG00000115268\"\n",
      "         ],\n",
      "         \"update_date\": \"2014-11-19\"\n",
      "      }\n",
      "   ],\n",
      "   \"relationship_types\": [\n",
      "      {\n",
      "         \"id\": \"N001b43ad7210481fb8222a83d040cd1d\",\n",
      "         \"subject\": \"https://monarchinitiative.org/gene/28304\",\n",
      "         \"relation\": \"http://bioentity.io/vocab/homologous_to\",\n",
      "         \"object\": \"http://www.informatics.jax.org/accession/MGI:1925179\"\n",
      "      },\n",
      "      {\n",
      "         \"id\": \"Na6e2e15fdf4c48da9215197f5be4bb03\",\n",
      "         \"subject\": \"https://www.ncbi.nlm.nih.gov/nuccore/NM_001018\",\n",
      "         \"relation\": \"http://bioentity.io/vocab/expresses\",\n",
      "         \"object\": \"https://monarchinitiative.org/gene/10388\"\n",
      "      }\n",
      "   ],\n",
      "   \"kg_source\": \"Sample derived from biolink-hgnc.jsonld\",\n",
      "   \"@context\": \"/Users/hsolbri1/git/biolink/biolink-model/context.jsonld\"\n",
      "}\n"
     ]
    }
   ],
   "source": [
    "# Print the entire thing as JSON\n",
    "print(as_json(knowledge_graph))"
   ]
  },
  {
   "cell_type": "code",
   "execution_count": 13,
   "metadata": {},
   "outputs": [
    {
     "name": "stdout",
     "output_type": "stream",
     "text": [
      "\n",
      "[] biolink:entities ( [ a ( \"gene with gene product\" \"protein-coding gene\" ) ;\n",
      "                rdfs:label \"ribosomal protein S15\" ;\n",
      "                biolink:filler <http://data2services/model/status/Approved>,\n",
      "                    <https://data2services/model/gene-family/RPS> ;\n",
      "                biolink:id HGNC:10388 ;\n",
      "                biolink:publications ( PUBMED:159154 ) ;\n",
      "                biolink:systematic_synonym \"RPS15\" ;\n",
      "                biolink:update_date \"2014-11-19\"^^xsd:date ;\n",
      "                ns1:RO_0001025 CCDS:CCDS12067 ;\n",
      "                ns1:RO_0002205 UniProtKB:P62841 ;\n",
      "                owl:equivalentClass EMSEMBL:ENSG00000115268,\n",
      "                    MIM:180535,\n",
      "                    NCBIGENE:6209 ] ) ;\n",
      "    biolink:id HGNC: ;\n",
      "    biolink:kg_source \"Sample derived from biolink-hgnc.jsonld\" ;\n",
      "    biolink:relationship_types ( [ biolink:id <file:///Users/hsolbri1/git/biolink/biolink-model/notebooks/N001b43ad7210481fb8222a83d040cd1d> ;\n",
      "                rdf:object MGI:1925179 ;\n",
      "                rdf:predicate biolink:homologous_to ;\n",
      "                rdf:subject HGNC:28304 ] [ biolink:id <file:///Users/hsolbri1/git/biolink/biolink-model/notebooks/Na6e2e15fdf4c48da9215197f5be4bb03> ;\n",
      "                rdf:object HGNC:10388 ;\n",
      "                rdf:predicate biolink:expresses ;\n",
      "                rdf:subject NUCC:NM_001018 ] ) .\n",
      "\n",
      "\n"
     ]
    }
   ],
   "source": [
    "# And as RDF\n",
    "print(knowledge_graph.as_rdf(strip_prefixes=True))"
   ]
  },
  {
   "cell_type": "code",
   "execution_count": null,
   "metadata": {},
   "outputs": [],
   "source": []
  }
 ],
 "metadata": {
  "kernelspec": {
   "display_name": "Python 3",
   "language": "python",
   "name": "python3"
  },
  "language_info": {
   "codemirror_mode": {
    "name": "ipython",
    "version": 3
   },
   "file_extension": ".py",
   "mimetype": "text/x-python",
   "name": "python",
   "nbconvert_exporter": "python",
   "pygments_lexer": "ipython3",
   "version": "3.7.0"
  }
 },
 "nbformat": 4,
 "nbformat_minor": 1
}
