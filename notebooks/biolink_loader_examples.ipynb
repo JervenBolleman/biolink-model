{
 "cells": [
  {
   "cell_type": "code",
   "execution_count": 4,
   "metadata": {},
   "outputs": [],
   "source": [
    "!pip install -e .. --upgrade -q"
   ]
  },
  {
   "cell_type": "code",
   "execution_count": 5,
   "metadata": {},
   "outputs": [],
   "source": [
    "from jsonasobj import as_json, JsonObj\n",
    "\n",
    "\n",
    "from biolinkmodel import datamodel\n",
    "from rdflib import Namespace, Graph, BNode"
   ]
  },
  {
   "cell_type": "code",
   "execution_count": 6,
   "metadata": {},
   "outputs": [],
   "source": [
    "HGNC = Namespace('http://identifiers.org/hgnc#')\n",
    "MGI = Namespace('http://www.informatics.jax.org/accession/MGI:')\n",
    "BIO = Namespace('http://bioentity.io/vocab/')\n",
    "homology = Namespace('http://data2services/model/association/homology/')\n",
    "transcript = Namespace('http://data2services/model/association/transcript/')\n",
    "NUCC = Namespace('https://www.ncbi.nlm.nih.gov/nuccore/')"
   ]
  },
  {
   "cell_type": "code",
   "execution_count": 7,
   "metadata": {},
   "outputs": [
    {
     "name": "stdout",
     "output_type": "stream",
     "text": [
      "{\n",
      "   \"id\": \"http://data2services/model/association/homology/a1\",\n",
      "   \"prefixes\": [\n",
      "      \"http://identifiers.org/hgnc#\"\n",
      "   ],\n",
      "   \"entities\": [\n",
      "      {\n",
      "         \"id\": \"http://bioentity.io/vocab/homologous_to\",\n",
      "         \"subject\": \"http://identifiers.org/hgnc#M28340\",\n",
      "         \"relation\": \"http://bioentity.io/vocab/homologous_to\",\n",
      "         \"object\": \"http://www.informatics.jax.org/accession/MGI:1925179\"\n",
      "      },\n",
      "      {\n",
      "         \"id\": \"http://bioentity.io/vocab/affects_activity_of\",\n",
      "         \"subject\": \"https://www.ncbi.nlm.nih.gov/nuccore/NM_001018\",\n",
      "         \"relation\": \"http://bioentity.io/vocab/affects_activity_of\",\n",
      "         \"object\": \"http://identifiers.org/hgnc#10388\"\n",
      "      }\n",
      "   ],\n",
      "   \"@context\": \"../context.jsonld\"\n",
      "}\n"
     ]
    },
    {
     "data": {
      "text/plain": [
       "<Graph identifier=N16e75491a3d44063a423fdf56feb352d (<class 'rdflib.graph.Graph'>)>"
      ]
     },
     "execution_count": 7,
     "metadata": {},
     "output_type": "execute_result"
    }
   ],
   "source": [
    "knowledge_graph = datamodel.KnowledgeGraph(id=homology.a1)\n",
    "knowledge_graph['@context'] = \"../context.jsonld\"\n",
    "knowledge_graph.prefixes['HGNC'] = HGNC\n",
    "knowledge_graph.entities[BNode()] = datamodel.GeneToGeneHomologyAssociation(\n",
    "    id = BIO.homologous_to,\n",
    "    subject = HGNC[\"M28340\"],\n",
    "    object = MGI[\"1925179\"],\n",
    "    relation = BIO.homologous_to)\n",
    "\n",
    "knowledge_graph.entities[BNode()] = datamodel.TranscriptToGeneRelationship(\n",
    "    id = BIO.affects_activity_of,\n",
    "    subject=NUCC.NM_001018,\n",
    "    object=HGNC['10388'],\n",
    "    relation = BIO.affects_activity_of)\n",
    "print(as_json(knowledge_graph))\n"
   ]
  },
  {
   "cell_type": "code",
   "execution_count": null,
   "metadata": {},
   "outputs": [],
   "source": []
  }
 ],
 "metadata": {
  "kernelspec": {
   "display_name": "Python 3",
   "language": "python",
   "name": "python3"
  },
  "language_info": {
   "codemirror_mode": {
    "name": "ipython",
    "version": 3
   },
   "file_extension": ".py",
   "mimetype": "text/x-python",
   "name": "python",
   "nbconvert_exporter": "python",
   "pygments_lexer": "ipython3",
   "version": "3.7.0"
  }
 },
 "nbformat": 4,
 "nbformat_minor": 1
}
